{
 "cells": [
  {
   "cell_type": "markdown",
   "metadata": {
    "collapsed": true
   },
   "source": [
    "#  <div align='center'> Ticket Analysis and guess SLA compliance </div>\n",
    "\n",
    "> The code is to Analyse the tickets from customer and build the mode to guess is the SLA was met for a set of input provided or not  \n",
    "\n",
    "\n",
    "<br>\n",
    "\n"
   ]
  },
  {
   "cell_type": "code",
   "execution_count": 45,
   "metadata": {
    "collapsed": true
   },
   "outputs": [],
   "source": [
    "import pandas\n",
    "import numpy as np\n",
    "\n",
    "# Algorithms \n",
    "from sklearn.linear_model import LinearRegression, Lasso\n",
    "from sklearn.naive_bayes import GaussianNB, BernoulliNB\n",
    "from sklearn import tree\n",
    "from sklearn.neighbors import KNeighborsClassifier\n",
    "from sklearn.svm import SVC\n",
    "\n",
    "# Other tools for model training and accuracy check\n",
    "from sklearn.model_selection import train_test_split\n",
    "from sklearn.metrics import accuracy_score \n"
   ]
  },
  {
   "cell_type": "code",
   "execution_count": 52,
   "metadata": {
    "collapsed": false
   },
   "outputs": [],
   "source": [
    "GE_Tkts = pandas.read_csv(\"GEW Inc1.csv\")"
   ]
  },
  {
   "cell_type": "code",
   "execution_count": 57,
   "metadata": {
    "collapsed": false
   },
   "outputs": [],
   "source": [
    "# The columns we'll use to predict the target\n",
    " \n",
    "# predictors = [\"Grp Code\", \"Cat Code\", \"Sub Cat code\", \"Priority Code\"]\n",
    "\n",
    "predictors = [ \"Cat Code\", \"Sub Cat code\", \"Priority Code\"]"
   ]
  },
  {
   "cell_type": "code",
   "execution_count": 87,
   "metadata": {
    "collapsed": false
   },
   "outputs": [],
   "source": [
    "# Initialize our algorithm class\n",
    "#alg = tree.DecisionTreeClassifier(min_samples_split=2, criterion=\"entropy\", max_features = \"auto\")  # Around 72%\n",
    "alg = SVC(C=2.0, kernel = \"rbf\") #kernel = \"rbf\" resulted = 72.02%\n",
    "#alg =  GaussianNB()\n",
    "#alg =  BernoulliNB()\n",
    "# alg = KNeighborsClassifier(algorithm=\"ball_tree\", weights = \"distance\") #Around 71.8%\n",
    "#alg = LinearRegression()\n",
    "#alg = Lasso(alpha = .01)"
   ]
  },
  {
   "cell_type": "markdown",
   "metadata": {},
   "source": [
    "## <div align= \"center\"> Analysis of accuracy with different parameters </div>\n",
    "\n",
    "+ Working with SVC\n",
    "> __Kernel = rbf__ ..\n",
    "> Does good job with accuracy score of 72.02%. \n",
    "> When removed the predictor Grp Code, it improved to __72.62%__\n",
    "> <br> kernel = poly took long time to complete and did not come back.\n",
    "> <br> parameter value C=2 bumped the accuracy score from 72.62% to __73%__. Default C value is 1\n",
    "> <br> Stack xchange [link]( http://stats.stackexchange.com/questions/31066/what-is-the-influence-of-c-in-svms-with-linear-kernel) about effect of value C in SVMs. Basically what should be the margin set during fitting. \n",
    "\n",
    "+ Decision Trees\n",
    "\n",
    "+ KNeighborsClassifier\n",
    "> Parameters = algorithm=\"auto\", weights = \"distance\". \n",
    "> With an accuracy of 71.84%\n",
    "> <br> When removed the Grp Code as predictor - it atuall decreased to 71.26%. \n",
    "> As far of algorithm parameter is concerned, auto and kd_tree has the same results while ball_tree reduced the accuracy a bit\n",
    "\n",
    "\n"
   ]
  },
  {
   "cell_type": "code",
   "execution_count": 88,
   "metadata": {
    "collapsed": false
   },
   "outputs": [],
   "source": [
    "# Generate cross validation folds for dataset.  It return the row indices corresponding to train and test.\n",
    "# We set random_state to ensure we get the same splits every time we run this.\n",
    "\n",
    "GE_Tkts_data = GE_Tkts[predictors]\n",
    "GE_Tkts_targets = GE_Tkts[\"SLA Met\"]"
   ]
  },
  {
   "cell_type": "code",
   "execution_count": 89,
   "metadata": {
    "collapsed": false
   },
   "outputs": [
    {
     "name": "stdout",
     "output_type": "stream",
     "text": [
      "0.730097087379\n"
     ]
    }
   ],
   "source": [
    "predictions = []\n",
    "#for train, test in kf:\n",
    "# The predictors we're using the train the algorithm.  Note how we only take the rows in the train folds.\n",
    "\n",
    "X_train, X_test, y_train, y_test = train_test_split(GE_Tkts_data, GE_Tkts_targets, test_size=0.1, random_state=0)\n",
    "\n",
    "# Training the algorithm using the predictors and target.\n",
    "alg.fit(X_train, y_train)\n",
    "# We can now make predictions on the test fold\n",
    "test_predictions = alg.predict(X_test)\n",
    "print(alg.score(X_test,y_test))\n",
    "\n",
    "# i = 0\n",
    "# sum = 0.00\n",
    "# for SLA in y_test:\n",
    "#     diff = age - test_predictions[i]\n",
    "# #     print(diff, age, test_predictions[i])\n",
    "#     sum = sum + np.square(diff)\n",
    "#     i = i + 1\n",
    "# avg = sum / y_test.shape[0]\n",
    "# deviation = np.sqrt(avg)\n",
    "# print(deviation)\n"
   ]
  },
  {
   "cell_type": "code",
   "execution_count": null,
   "metadata": {
    "collapsed": false
   },
   "outputs": [],
   "source": [
    "# X1_test = [[8,18,71,4]]\n",
    "# X1_test = [[2,8,76,2]]\n",
    "# print(alg.predict(X1_test))\n",
    "\n",
    "index = 7\n",
    "print(GE_Tkts_data.iloc[index])\n",
    "test_predictions = alg.predict(GE_Tkts_data.iloc[index])\n",
    "\n",
    "\n",
    "print(\"Predicted Value\", test_predictions)\n",
    "print(\"Actual Value\", GE_Tkts_targets.iloc[index])\n"
   ]
  },
  {
   "cell_type": "code",
   "execution_count": null,
   "metadata": {
    "collapsed": true
   },
   "outputs": [],
   "source": []
  }
 ],
 "metadata": {
  "celltoolbar": "Raw Cell Format",
  "kernelspec": {
   "display_name": "Python 3",
   "language": "python",
   "name": "python3"
  },
  "language_info": {
   "codemirror_mode": {
    "name": "ipython",
    "version": 3
   },
   "file_extension": ".py",
   "mimetype": "text/x-python",
   "name": "python",
   "nbconvert_exporter": "python",
   "pygments_lexer": "ipython3",
   "version": "3.6.0"
  }
 },
 "nbformat": 4,
 "nbformat_minor": 2
}
