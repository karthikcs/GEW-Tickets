{
 "cells": [
  {
   "cell_type": "markdown",
   "metadata": {},
   "source": [
    "## <div align=\"center\"> Analysis of ticket to Regress the age of the ticket </div>\n"
   ]
  },
  {
   "cell_type": "code",
   "execution_count": 21,
   "metadata": {
    "collapsed": true
   },
   "outputs": [],
   "source": [
    "## All Imports\n",
    "import pandas\n",
    "import numpy as np\n",
    "\n",
    "# Algorithms \n",
    "from sklearn.linear_model import LinearRegression, Lasso, LogisticRegression\n",
    "from sklearn.naive_bayes import GaussianNB, BernoulliNB\n",
    "from sklearn import tree\n",
    "from sklearn.neighbors import KNeighborsClassifier\n",
    "from sklearn.svm import SVC\n",
    "from sklearn.ensemble import AdaBoostClassifier, GradientBoostingClassifier, RandomForestClassifier\n",
    "\n",
    "# Other tools for model training and accuracy check\n",
    "from sklearn.model_selection import train_test_split\n",
    "from sklearn.metrics import accuracy_score "
   ]
  },
  {
   "cell_type": "code",
   "execution_count": 22,
   "metadata": {
    "collapsed": true
   },
   "outputs": [],
   "source": [
    "GE_Tkts = pandas.read_csv(\"GEW Inc1.csv\")"
   ]
  },
  {
   "cell_type": "code",
   "execution_count": 23,
   "metadata": {
    "collapsed": true
   },
   "outputs": [],
   "source": [
    "# The columns we'll use to predict the target\n",
    " \n",
    "# predictors = [\"Grp Code\", \"Cat Code\", \"Sub Cat code\", \"Priority Code\"]\n",
    "\n",
    "predictors = [ \"Cat Code\", \"Sub Cat code\", \"Priority Code\"]"
   ]
  },
  {
   "cell_type": "code",
   "execution_count": 33,
   "metadata": {
    "collapsed": false
   },
   "outputs": [],
   "source": [
    "# Initialize our algorithm class\n",
    "# alg = SVC(C=2.0, kernel = \"rbf\") #kernel = \"rbf\" resulted = 73% \n",
    "# alg =  GaussianNB()\n",
    "# alg =  BernoulliNB()\n",
    "# alg = KNeighborsClassifier(algorithm=\"ball_tree\", weights = \"distance\") #Around 71.8%\n",
    "# alg = LinearRegression()\n",
    "alg = LogisticRegression(C=2.5)\n",
    "# alg = Lasso(alpha = .01)\n"
   ]
  },
  {
   "cell_type": "code",
   "execution_count": 34,
   "metadata": {
    "collapsed": true
   },
   "outputs": [],
   "source": [
    "# Generate cross validation folds for dataset.  It return the row indices corresponding to train and test.\n",
    "# We set random_state to ensure we get the same splits every time we run this.\n",
    "\n",
    "GE_Tkts_data = GE_Tkts[predictors]\n",
    "GE_Tkts_targets = GE_Tkts[\"SLA Met\"]"
   ]
  },
  {
   "cell_type": "code",
   "execution_count": 35,
   "metadata": {
    "collapsed": false
   },
   "outputs": [
    {
     "name": "stdout",
     "output_type": "stream",
     "text": [
      "0.677669902913\n",
      "[[-0.00244919 -0.00831852  0.11602529]]\n",
      "[ 0.93720835]\n"
     ]
    }
   ],
   "source": [
    "predictions = []\n",
    "#for train, test in kf:\n",
    "# The predictors we're using the train the algorithm.  Note how we only take the rows in the train folds.\n",
    "\n",
    "X_train, X_test, y_train, y_test = train_test_split(GE_Tkts_data, GE_Tkts_targets, test_size=0.1, random_state=0)\n",
    "\n",
    "# Training the algorithm using the predictors and target.\n",
    "alg.fit(X_train, y_train)\n",
    "# We can now make predictions on the test fold\n",
    "test_predictions = alg.predict(X_test)\n",
    "print(alg.score(X_test,y_test))\n",
    "print(alg.coef_)\n",
    "print(alg.intercept_)"
   ]
  },
  {
   "cell_type": "code",
   "execution_count": null,
   "metadata": {
    "collapsed": true
   },
   "outputs": [],
   "source": []
  }
 ],
 "metadata": {
  "kernelspec": {
   "display_name": "Python 3",
   "language": "python",
   "name": "python3"
  },
  "language_info": {
   "codemirror_mode": {
    "name": "ipython",
    "version": 3
   },
   "file_extension": ".py",
   "mimetype": "text/x-python",
   "name": "python",
   "nbconvert_exporter": "python",
   "pygments_lexer": "ipython3",
   "version": "3.6.0"
  }
 },
 "nbformat": 4,
 "nbformat_minor": 2
}
